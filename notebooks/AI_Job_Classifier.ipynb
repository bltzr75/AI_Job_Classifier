{
 "cells": [
  {
   "cell_type": "markdown",
   "metadata": {
    "id": "Xaxy4Pp-MMiR"
   },
   "source": [
    "## Initial Setup"
   ]
  },
  {
   "cell_type": "code",
   "execution_count": 3,
   "metadata": {
    "id": "HQSkEMUwGz4u"
   },
   "outputs": [],
   "source": [
    "import pandas as pd\n",
    "import numpy as np\n",
    "import matplotlib.pyplot as plt\n",
    "import seaborn as sns\n",
    "\n",
    "pd.set_option('display.max_rows', None)\n",
    "pd.set_option('display.max_columns', None)"
   ]
  },
  {
   "cell_type": "markdown",
   "metadata": {
    "id": "KQixobULMQBj"
   },
   "source": [
    "## Load CSV\n"
   ]
  },
  {
   "cell_type": "code",
   "execution_count": 36,
   "metadata": {
    "colab": {
     "base_uri": "https://localhost:8080/"
    },
    "id": "FkbAeL26Ier-",
    "outputId": "13e5c689-f50d-42d2-cf36-9d3636fb5577"
   },
   "outputs": [
    {
     "name": "stdout",
     "output_type": "stream",
     "text": [
      "Dataset shape: (2810, 4)\n",
      "\n",
      "Columns: ['Label', 'Job_Title', 'Job_Description', 'Index']\n",
      "\n",
      "First few rows:\n"
     ]
    }
   ],
   "source": [
    "# Load the labeled data\n",
    "df = pd.read_csv('RLHF_labeled_final.csv')\n",
    "\n",
    "# Basic info\n",
    "print(\"Dataset shape:\", df.shape)\n",
    "print(\"\\nColumns:\", df.columns.tolist())\n",
    "print(\"\\nFirst few rows:\")\n",
    "# df[\"Job_Description\"][:3]"
   ]
  },
  {
   "cell_type": "markdown",
   "metadata": {
    "id": "R9D6Esl2owq7"
   },
   "source": [
    "## Convert the Label to 1s and 0s: 1=True, 0=False"
   ]
  },
  {
   "cell_type": "code",
   "execution_count": 5,
   "metadata": {
    "id": "XIxovlUwpywz"
   },
   "outputs": [],
   "source": [
    "## Other way: df['Label'] = (df['Label'] == 1).astype(int)\n",
    "df['Label'] = df['Label'].apply(lambda x: 1 if x==1 else 0 )\n"
   ]
  },
  {
   "cell_type": "markdown",
   "metadata": {
    "id": "7XuArktVMJiS"
   },
   "source": [
    "## Cleaning of Job Descriptions\n"
   ]
  },
  {
   "cell_type": "code",
   "execution_count": 6,
   "metadata": {
    "id": "1nTIzO6VJtWN"
   },
   "outputs": [],
   "source": [
    "import re\n",
    "\n",
    "def clean_text_for_classification(text, is_title = False):\n",
    "  \"\"\"\n",
    "  Cleaning preserving keywords and removing noise.\n",
    "  \"\"\"\n",
    "\n",
    "  if pd.isna(text):\n",
    "    return(\"\")\n",
    "\n",
    "  text = str(text)\n",
    "\n",
    "  # Remove common prefixes\n",
    "  if not is_title:\n",
    "    text = re.sub(r'^About the job\\s*', '', text, flags = re.IGNORECASE) # \\s* is 0 or + whitespaces (tabs, spaces, newlines)\n",
    "    text = re.sub(r'^Job Description\\s*', '', text, flags=re.IGNORECASE)\n",
    "\n",
    "\n",
    "  # Normalize whitespace (including spaces, newlines, tabs)\n",
    "  text = re.sub(r'\\s+', ' ', text) # replace 1 or more spaces with just ' '\n",
    "\n",
    "  # Remove excessive punctuation but keeping structure\n",
    "  text = re.sub(r'([.!?¿])\\1+', r'\\1', text)\n",
    "  text = re.sub(r'[-=_]{3,}', ' ', text)\n",
    "\n",
    "  # Remove bullet points but keep the text\n",
    "  text = re.sub(r'^\\s*[•·▪▫◆◇○●\\-\\*]\\s*', '', text, flags=re.MULTILINE)\n",
    "  text = re.sub(r'^\\s*\\d+[\\.\\)]\\s*', '', text, flags=re.MULTILINE)\n",
    "\n",
    "  # Remove extra spaces\n",
    "  text = ' '.join(text.split())\n",
    "\n",
    "  return text.strip()\n",
    "\n",
    "df['Job_Title_Clean'] = df['Job_Title'].apply(lambda x: clean_text_for_classification(x, is_title=True))\n",
    "df['Job_Description_Clean'] = df['Job_Description'].apply(lambda x: clean_text_for_classification(x, is_title=False))\n",
    "\n",
    "\n",
    "# Handle missing values\n",
    "df['Job_Description_Clean'] = df['Job_Description_Clean'].fillna('')\n",
    "\n",
    "# Calculate text lengths\n",
    "df['title_len'] = df['Job_Title_Clean'].str.len()\n",
    "df['desc_len'] = df['Job_Description_Clean'].str.len()\n",
    "\n"
   ]
  },
  {
   "cell_type": "code",
   "execution_count": 7,
   "metadata": {
    "colab": {
     "base_uri": "https://localhost:8080/"
    },
    "id": "44uqoh5-T43Q",
    "outputId": "795b3e05-fa16-4b94-ec21-2a4a2eaa0383"
   },
   "outputs": [
    {
     "name": "stdout",
     "output_type": "stream",
     "text": [
      "Cleaning Results:\n",
      "Total rows: 2810\n",
      "Empty titles: 0\n",
      "Empty descriptions: 11\n",
      "\n",
      "Description lengths:\n",
      "count     2810.000000\n",
      "mean      2430.459075\n",
      "std       1571.390425\n",
      "min          0.000000\n",
      "25%       1264.500000\n",
      "50%       2118.000000\n",
      "75%       3176.000000\n",
      "max      12493.000000\n",
      "Name: desc_len, dtype: float64\n",
      "\n",
      "==================================================\n",
      "Sample cleaned data:\n",
      "\n",
      "Example 1:\n",
      "Title: Applied AI Engineer\n",
      "Label: 1\n",
      "\n",
      "Example 2:\n",
      "Title: Data Scientist\n",
      "Label: 0\n",
      "\n",
      "Example 3:\n",
      "Title: Senior GenAI Engineer\n",
      "Label: 1\n"
     ]
    }
   ],
   "source": [
    "# Check the results\n",
    "print(\"Cleaning Results:\")\n",
    "print(f\"Total rows: {len(df)}\")\n",
    "print(f\"Empty titles: {(df['title_len'] == 0).sum()}\")\n",
    "print(f\"Empty descriptions: {(df['desc_len'] == 0).sum()}\")\n",
    "print(f\"\\nDescription lengths:\")\n",
    "print(df['desc_len'].describe())\n",
    "\n",
    "# Show some examples\n",
    "print(\"\\n\" + \"=\"*50)\n",
    "print(\"Sample cleaned data:\")\n",
    "for i in range(3):\n",
    "    print(f\"\\nExample {i+1}:\")\n",
    "    print(f\"Title: {df.iloc[i]['Job_Title_Clean']}\")\n",
    "    # print(f\"Description (first 300 chars): {df.iloc[i]['Job_Description_Clean'][:300]}...\")\n",
    "    print(f\"Label: {df.iloc[i]['Label']}\")\n"
   ]
  },
  {
   "cell_type": "code",
   "execution_count": 8,
   "metadata": {
    "colab": {
     "base_uri": "https://localhost:8080/"
    },
    "id": "7tU21krBIjDJ",
    "outputId": "dcb15c74-fe14-4929-983a-c2094ebad8ce"
   },
   "outputs": [
    {
     "name": "stdout",
     "output_type": "stream",
     "text": [
      "Rows with description < 50 chars: 16\n",
      "\n",
      "After filtering:\n",
      "Total rows: 2794 (removed 16)\n",
      "\n",
      "Label distribution:\n",
      "Label\n",
      "0    2183\n",
      "1     611\n",
      "Name: count, dtype: int64\n",
      "\n",
      "Label percentages:\n",
      "Label\n",
      "0    78.131711\n",
      "1    21.868289\n",
      "Name: proportion, dtype: float64\n",
      "\n",
      "Class balance: 1:3.57\n"
     ]
    }
   ],
   "source": [
    "# Remove rows with very short or empty descriptions\n",
    "MIN_DESC_LENGTH = 50  # Reasonable minimum for a job description\n",
    "\n",
    "print(f\"Rows with description < {MIN_DESC_LENGTH} chars: {(df['desc_len'] < MIN_DESC_LENGTH).sum()}\")\n",
    "\n",
    "# Keep only valid rows\n",
    "df_clean = df[df['desc_len'] >= MIN_DESC_LENGTH].copy()\n",
    "\n",
    "print(f\"\\nAfter filtering:\")\n",
    "print(f\"Total rows: {len(df_clean)} (removed {len(df) - len(df_clean)})\")\n",
    "print(\"\\nLabel distribution:\")\n",
    "print(df_clean['Label'].value_counts())\n",
    "print(\"\\nLabel percentages:\")\n",
    "print(df_clean['Label'].value_counts(normalize=True) * 100)\n",
    "\n",
    "# Verify we still have good distribution\n",
    "label_counts = df_clean['Label'].value_counts()\n",
    "print(f\"\\nClass balance: 1:{label_counts[0]/label_counts[1]:.2f}\")"
   ]
  },
  {
   "cell_type": "markdown",
   "metadata": {
    "id": "ncSNkYCISKUs"
   },
   "source": [
    "## Stratified Train/DevSet-Validation/Test Splits"
   ]
  },
  {
   "cell_type": "code",
   "execution_count": 9,
   "metadata": {
    "id": "pIKg6YpfJVIb"
   },
   "outputs": [],
   "source": [
    "from sklearn.model_selection import train_test_split\n",
    "\n",
    "RANDOM_SEED = 42\n",
    "\n",
    "X = df_clean[['Job_Title_Clean', 'Job_Description_Clean']]\n",
    "y = df_clean['Label']\n",
    "\n",
    "# First split: 80% train+val, 20% test\n",
    "X_temp, X_test, y_temp, y_test = train_test_split(X,y,\n",
    "                                                  test_size=0.2,\n",
    "                                                  random_state=RANDOM_SEED,\n",
    "                                                  stratify=y) # Stratified splitting means preserving the same proportion of each class in all splits. Takes the labels as input, stratify=y works by grouping data by class labels before splitting\n",
    "\n",
    "\n",
    "\n",
    "# Second split: From the 80%, make 75% train and 25% val\n",
    "# This gives us 60% train, 20% val, 20% test overall\n",
    "X_train, X_val, y_train, y_val = train_test_split(X_temp, y_temp,\n",
    "                                                  test_size=0.25,\n",
    "                                                  random_state=RANDOM_SEED,\n",
    "                                                  stratify=y_temp)\n",
    "\n"
   ]
  },
  {
   "cell_type": "code",
   "execution_count": 10,
   "metadata": {
    "colab": {
     "base_uri": "https://localhost:8080/"
    },
    "id": "vybOz4qST0_L",
    "outputId": "1a0e9fce-6153-4cee-e9bf-e10dea21dfcd"
   },
   "outputs": [
    {
     "name": "stdout",
     "output_type": "stream",
     "text": [
      "Dataset splits:\n",
      "Train: 1676 samples (60.0%)\n",
      "Val: 559 samples (20.0%)\n",
      "Test: 559 samples (20.0%)\n",
      "Total: 2794 samples\n",
      "\n",
      "Label distribution per split:\n",
      "\n",
      "Train:\n",
      "Label\n",
      "0    1309\n",
      "1     367\n",
      "Name: count, dtype: int64\n",
      "Class 1 percentage: 21.9%\n",
      "\n",
      "Val:\n",
      "Label\n",
      "0    437\n",
      "1    122\n",
      "Name: count, dtype: int64\n",
      "Class 1 percentage: 21.8%\n",
      "\n",
      "Test:\n",
      "Label\n",
      "0    437\n",
      "1    122\n",
      "Name: count, dtype: int64\n",
      "Class 1 percentage: 21.8%\n"
     ]
    }
   ],
   "source": [
    "# Print split sizes\n",
    "print(\"Dataset splits:\")\n",
    "print(f\"Train: {len(X_train)} samples ({len(X_train)/len(df_clean)*100:.1f}%)\")\n",
    "print(f\"Val: {len(X_val)} samples ({len(X_val)/len(df_clean)*100:.1f}%)\")\n",
    "print(f\"Test: {len(X_test)} samples ({len(X_test)/len(df_clean)*100:.1f}%)\")\n",
    "print(f\"Total: {len(X_train) + len(X_val) + len(X_test)} samples\")\n",
    "\n",
    "print(\"\\nLabel distribution per split:\")\n",
    "for split_name, y_split in [(\"Train\", y_train), (\"Val\", y_val), (\"Test\", y_test)]:\n",
    "    counts = y_split.value_counts().sort_index()\n",
    "    print(f\"\\n{split_name}:\")\n",
    "    print(counts)\n",
    "    print(f\"Class 1 percentage: {counts[1]/len(y_split)*100:.1f}%\")"
   ]
  },
  {
   "cell_type": "markdown",
   "metadata": {
    "id": "hqEvAiF5V3ul"
   },
   "source": [
    "### Save the splits"
   ]
  },
  {
   "cell_type": "code",
   "execution_count": 11,
   "metadata": {
    "id": "7oxK78EXT1Ra"
   },
   "outputs": [],
   "source": [
    "# Craete dataframes with all necessary cols\n",
    "train_df = pd.concat([X_train, y_train], axis=1)\n",
    "val_df = pd.concat([X_val, y_val], axis=1)\n",
    "test_df = pd.concat([X_test, y_test], axis = 1)"
   ]
  },
  {
   "cell_type": "code",
   "execution_count": 12,
   "metadata": {
    "id": "RXecFt8qWBXa"
   },
   "outputs": [],
   "source": [
    "# Add original index for traceability\n",
    "train_df['original_index'] = train_df.index\n",
    "val_df['original_index'] = val_df.index\n",
    "test_df['original_index'] = test_df.index\n"
   ]
  },
  {
   "cell_type": "code",
   "execution_count": 13,
   "metadata": {
    "colab": {
     "base_uri": "https://localhost:8080/"
    },
    "id": "CXMSKy56WCNp",
    "outputId": "b7d61033-90d9-4f21-9052-0608a4e55138"
   },
   "outputs": [
    {
     "name": "stdout",
     "output_type": "stream",
     "text": [
      "\n",
      "Files saved:\n",
      "- train_data.csv\n",
      "- val_data.csv\n",
      "- test_data.csv\n"
     ]
    }
   ],
   "source": [
    "# Save splits\n",
    "train_df.to_csv('train_data.csv', index=False)\n",
    "val_df.to_csv('val_data.csv', index=False)\n",
    "test_df.to_csv('test_data.csv', index=False)\n",
    "print(\"\\nFiles saved:\")\n",
    "print(\"- train_data.csv\")\n",
    "print(\"- val_data.csv\")\n",
    "print(\"- test_data.csv\")"
   ]
  },
  {
   "cell_type": "code",
   "execution_count": 14,
   "metadata": {
    "colab": {
     "base_uri": "https://localhost:8080/"
    },
    "id": "abeF9ov3Wc5y",
    "outputId": "60717445-5a3f-4b63-93b7-329b2e924c9a"
   },
   "outputs": [
    {
     "name": "stdout",
     "output_type": "stream",
     "text": [
      "\n",
      "==================================================\n",
      "Sample training data:\n",
      "\n",
      "Class 1 (AI/ML/DS) examples:\n",
      "- Senior AI Engineer, Legends (Remote) - $150,000/year USD\n",
      "- AI\\ML software Engineer\n",
      "- Language Specialist\n",
      "\n",
      "Class 0 (Other) examples:\n",
      "- Senior Go-to-Market (GTM) Manager\n",
      "- Optics Firmware Verification Student\n",
      "- Software Engineer\n"
     ]
    }
   ],
   "source": [
    "# Quick sanity check - show a few examples from each class in train set\n",
    "print(\"\\n\" + \"=\"*50)\n",
    "print(\"Sample training data:\")\n",
    "print(\"\\nClass 1 (AI/ML/DS) examples:\")\n",
    "ai_samples = train_df[train_df['Label'] == 1].head(3)\n",
    "for idx, row in ai_samples.iterrows():\n",
    "    print(f\"- {row['Job_Title_Clean']}\")\n",
    "\n",
    "print(\"\\nClass 0 (Other) examples:\")\n",
    "other_samples = train_df[train_df['Label'] == 0].head(3)\n",
    "for idx, row in other_samples.iterrows():\n",
    "    print(f\"- {row['Job_Title_Clean']}\")"
   ]
  },
  {
   "cell_type": "markdown",
   "metadata": {
    "id": "hb0fw5h0XEFL"
   },
   "source": [
    "# TF-IDF + Logistic Regression Baseline\n"
   ]
  },
  {
   "cell_type": "code",
   "execution_count": 15,
   "metadata": {
    "id": "2zJxgXpMW8g-"
   },
   "outputs": [],
   "source": [
    "from sklearn.feature_extraction.text import TfidfVectorizer\n",
    "from sklearn.linear_model import LogisticRegression\n",
    "from sklearn.pipeline import Pipeline\n",
    "from sklearn.metrics import classification_report, confusion_matrix\n",
    "import numpy as np"
   ]
  },
  {
   "cell_type": "code",
   "execution_count": 16,
   "metadata": {
    "id": "siwNv9KrdUAw"
   },
   "outputs": [],
   "source": [
    "# Combine title and description adding weight to title\n",
    "\n",
    "def combine_text(row):\n",
    "  \"\"\"Combine title and description with title having more weight\"\"\"\n",
    "\n",
    "  title_weight = 3   # Title appears 3 times to give it more weight\n",
    "  return(row['Job_Title_Clean'] + \" \") * title_weight + row['Job_Description_Clean']\n"
   ]
  },
  {
   "cell_type": "code",
   "execution_count": 17,
   "metadata": {
    "colab": {
     "base_uri": "https://localhost:8080/"
    },
    "id": "6rXv8sBFiF6b",
    "outputId": "48879fc5-0114-4180-e7bb-c9820a889240"
   },
   "outputs": [
    {
     "name": "stdout",
     "output_type": "stream",
     "text": [
      "Applied AI Engineer Applied AI Engineer Applied AI Engineer Job Summary As an Applied AI Engineer, you’ll work closely with customers and internal teams to translate business problems into AI-driven solutions. You’ll be hands-on with AI workflows, and help bridge the gap between model capabilities and real-world impact. Responsibilities Implement workflows and configure model behavior for customer solutions. Build integrations between AI logic and deterministic building blocks. Work with platform and research teams to surface platform-level improvements. Requirements 4+ years experience in software engineering or research roles. Experience building or integrating LLM-based solutions. Ability to rapidly understand complex domains and translate them into structured prompts. Comfortable working with real-time applications and production systems. Nice to Have Experience working with AI or LLM-based applications. Experience working with B2B or enterprise customers. If you’re a strong, independent builder who thrives on ownership, cares deeply about quality, and wants to have a real impact — we’d love to meet you.\n"
     ]
    }
   ],
   "source": [
    "# prepare combined text\n",
    "X_train_combined = train_df.apply(combine_text, axis=1)\n",
    "X_val_combined = val_df.apply(combine_text, axis=1)\n",
    "X_test_combined = test_df.apply(combine_text, axis=1)\n",
    "\n",
    "print(X_train_combined[0])"
   ]
  },
  {
   "cell_type": "markdown",
   "metadata": {
    "id": "iP3W_Ra_kWxf"
   },
   "source": [
    "## Create TF-IDF + Logistic Regression pipeline\n"
   ]
  },
  {
   "cell_type": "code",
   "execution_count": 18,
   "metadata": {
    "colab": {
     "base_uri": "https://localhost:8080/",
     "height": 347
    },
    "id": "d4_It9zCj-dG",
    "outputId": "86a3fba6-171c-44ec-a6c6-9d10a34ec155"
   },
   "outputs": [
    {
     "data": {
      "text/html": [
       "<style>#sk-container-id-1 {\n",
       "  /* Definition of color scheme common for light and dark mode */\n",
       "  --sklearn-color-text: #000;\n",
       "  --sklearn-color-text-muted: #666;\n",
       "  --sklearn-color-line: gray;\n",
       "  /* Definition of color scheme for unfitted estimators */\n",
       "  --sklearn-color-unfitted-level-0: #fff5e6;\n",
       "  --sklearn-color-unfitted-level-1: #f6e4d2;\n",
       "  --sklearn-color-unfitted-level-2: #ffe0b3;\n",
       "  --sklearn-color-unfitted-level-3: chocolate;\n",
       "  /* Definition of color scheme for fitted estimators */\n",
       "  --sklearn-color-fitted-level-0: #f0f8ff;\n",
       "  --sklearn-color-fitted-level-1: #d4ebff;\n",
       "  --sklearn-color-fitted-level-2: #b3dbfd;\n",
       "  --sklearn-color-fitted-level-3: cornflowerblue;\n",
       "\n",
       "  /* Specific color for light theme */\n",
       "  --sklearn-color-text-on-default-background: var(--sg-text-color, var(--theme-code-foreground, var(--jp-content-font-color1, black)));\n",
       "  --sklearn-color-background: var(--sg-background-color, var(--theme-background, var(--jp-layout-color0, white)));\n",
       "  --sklearn-color-border-box: var(--sg-text-color, var(--theme-code-foreground, var(--jp-content-font-color1, black)));\n",
       "  --sklearn-color-icon: #696969;\n",
       "\n",
       "  @media (prefers-color-scheme: dark) {\n",
       "    /* Redefinition of color scheme for dark theme */\n",
       "    --sklearn-color-text-on-default-background: var(--sg-text-color, var(--theme-code-foreground, var(--jp-content-font-color1, white)));\n",
       "    --sklearn-color-background: var(--sg-background-color, var(--theme-background, var(--jp-layout-color0, #111)));\n",
       "    --sklearn-color-border-box: var(--sg-text-color, var(--theme-code-foreground, var(--jp-content-font-color1, white)));\n",
       "    --sklearn-color-icon: #878787;\n",
       "  }\n",
       "}\n",
       "\n",
       "#sk-container-id-1 {\n",
       "  color: var(--sklearn-color-text);\n",
       "}\n",
       "\n",
       "#sk-container-id-1 pre {\n",
       "  padding: 0;\n",
       "}\n",
       "\n",
       "#sk-container-id-1 input.sk-hidden--visually {\n",
       "  border: 0;\n",
       "  clip: rect(1px 1px 1px 1px);\n",
       "  clip: rect(1px, 1px, 1px, 1px);\n",
       "  height: 1px;\n",
       "  margin: -1px;\n",
       "  overflow: hidden;\n",
       "  padding: 0;\n",
       "  position: absolute;\n",
       "  width: 1px;\n",
       "}\n",
       "\n",
       "#sk-container-id-1 div.sk-dashed-wrapped {\n",
       "  border: 1px dashed var(--sklearn-color-line);\n",
       "  margin: 0 0.4em 0.5em 0.4em;\n",
       "  box-sizing: border-box;\n",
       "  padding-bottom: 0.4em;\n",
       "  background-color: var(--sklearn-color-background);\n",
       "}\n",
       "\n",
       "#sk-container-id-1 div.sk-container {\n",
       "  /* jupyter's `normalize.less` sets `[hidden] { display: none; }`\n",
       "     but bootstrap.min.css set `[hidden] { display: none !important; }`\n",
       "     so we also need the `!important` here to be able to override the\n",
       "     default hidden behavior on the sphinx rendered scikit-learn.org.\n",
       "     See: https://github.com/scikit-learn/scikit-learn/issues/21755 */\n",
       "  display: inline-block !important;\n",
       "  position: relative;\n",
       "}\n",
       "\n",
       "#sk-container-id-1 div.sk-text-repr-fallback {\n",
       "  display: none;\n",
       "}\n",
       "\n",
       "div.sk-parallel-item,\n",
       "div.sk-serial,\n",
       "div.sk-item {\n",
       "  /* draw centered vertical line to link estimators */\n",
       "  background-image: linear-gradient(var(--sklearn-color-text-on-default-background), var(--sklearn-color-text-on-default-background));\n",
       "  background-size: 2px 100%;\n",
       "  background-repeat: no-repeat;\n",
       "  background-position: center center;\n",
       "}\n",
       "\n",
       "/* Parallel-specific style estimator block */\n",
       "\n",
       "#sk-container-id-1 div.sk-parallel-item::after {\n",
       "  content: \"\";\n",
       "  width: 100%;\n",
       "  border-bottom: 2px solid var(--sklearn-color-text-on-default-background);\n",
       "  flex-grow: 1;\n",
       "}\n",
       "\n",
       "#sk-container-id-1 div.sk-parallel {\n",
       "  display: flex;\n",
       "  align-items: stretch;\n",
       "  justify-content: center;\n",
       "  background-color: var(--sklearn-color-background);\n",
       "  position: relative;\n",
       "}\n",
       "\n",
       "#sk-container-id-1 div.sk-parallel-item {\n",
       "  display: flex;\n",
       "  flex-direction: column;\n",
       "}\n",
       "\n",
       "#sk-container-id-1 div.sk-parallel-item:first-child::after {\n",
       "  align-self: flex-end;\n",
       "  width: 50%;\n",
       "}\n",
       "\n",
       "#sk-container-id-1 div.sk-parallel-item:last-child::after {\n",
       "  align-self: flex-start;\n",
       "  width: 50%;\n",
       "}\n",
       "\n",
       "#sk-container-id-1 div.sk-parallel-item:only-child::after {\n",
       "  width: 0;\n",
       "}\n",
       "\n",
       "/* Serial-specific style estimator block */\n",
       "\n",
       "#sk-container-id-1 div.sk-serial {\n",
       "  display: flex;\n",
       "  flex-direction: column;\n",
       "  align-items: center;\n",
       "  background-color: var(--sklearn-color-background);\n",
       "  padding-right: 1em;\n",
       "  padding-left: 1em;\n",
       "}\n",
       "\n",
       "\n",
       "/* Toggleable style: style used for estimator/Pipeline/ColumnTransformer box that is\n",
       "clickable and can be expanded/collapsed.\n",
       "- Pipeline and ColumnTransformer use this feature and define the default style\n",
       "- Estimators will overwrite some part of the style using the `sk-estimator` class\n",
       "*/\n",
       "\n",
       "/* Pipeline and ColumnTransformer style (default) */\n",
       "\n",
       "#sk-container-id-1 div.sk-toggleable {\n",
       "  /* Default theme specific background. It is overwritten whether we have a\n",
       "  specific estimator or a Pipeline/ColumnTransformer */\n",
       "  background-color: var(--sklearn-color-background);\n",
       "}\n",
       "\n",
       "/* Toggleable label */\n",
       "#sk-container-id-1 label.sk-toggleable__label {\n",
       "  cursor: pointer;\n",
       "  display: flex;\n",
       "  width: 100%;\n",
       "  margin-bottom: 0;\n",
       "  padding: 0.5em;\n",
       "  box-sizing: border-box;\n",
       "  text-align: center;\n",
       "  align-items: start;\n",
       "  justify-content: space-between;\n",
       "  gap: 0.5em;\n",
       "}\n",
       "\n",
       "#sk-container-id-1 label.sk-toggleable__label .caption {\n",
       "  font-size: 0.6rem;\n",
       "  font-weight: lighter;\n",
       "  color: var(--sklearn-color-text-muted);\n",
       "}\n",
       "\n",
       "#sk-container-id-1 label.sk-toggleable__label-arrow:before {\n",
       "  /* Arrow on the left of the label */\n",
       "  content: \"▸\";\n",
       "  float: left;\n",
       "  margin-right: 0.25em;\n",
       "  color: var(--sklearn-color-icon);\n",
       "}\n",
       "\n",
       "#sk-container-id-1 label.sk-toggleable__label-arrow:hover:before {\n",
       "  color: var(--sklearn-color-text);\n",
       "}\n",
       "\n",
       "/* Toggleable content - dropdown */\n",
       "\n",
       "#sk-container-id-1 div.sk-toggleable__content {\n",
       "  max-height: 0;\n",
       "  max-width: 0;\n",
       "  overflow: hidden;\n",
       "  text-align: left;\n",
       "  /* unfitted */\n",
       "  background-color: var(--sklearn-color-unfitted-level-0);\n",
       "}\n",
       "\n",
       "#sk-container-id-1 div.sk-toggleable__content.fitted {\n",
       "  /* fitted */\n",
       "  background-color: var(--sklearn-color-fitted-level-0);\n",
       "}\n",
       "\n",
       "#sk-container-id-1 div.sk-toggleable__content pre {\n",
       "  margin: 0.2em;\n",
       "  border-radius: 0.25em;\n",
       "  color: var(--sklearn-color-text);\n",
       "  /* unfitted */\n",
       "  background-color: var(--sklearn-color-unfitted-level-0);\n",
       "}\n",
       "\n",
       "#sk-container-id-1 div.sk-toggleable__content.fitted pre {\n",
       "  /* unfitted */\n",
       "  background-color: var(--sklearn-color-fitted-level-0);\n",
       "}\n",
       "\n",
       "#sk-container-id-1 input.sk-toggleable__control:checked~div.sk-toggleable__content {\n",
       "  /* Expand drop-down */\n",
       "  max-height: 200px;\n",
       "  max-width: 100%;\n",
       "  overflow: auto;\n",
       "}\n",
       "\n",
       "#sk-container-id-1 input.sk-toggleable__control:checked~label.sk-toggleable__label-arrow:before {\n",
       "  content: \"▾\";\n",
       "}\n",
       "\n",
       "/* Pipeline/ColumnTransformer-specific style */\n",
       "\n",
       "#sk-container-id-1 div.sk-label input.sk-toggleable__control:checked~label.sk-toggleable__label {\n",
       "  color: var(--sklearn-color-text);\n",
       "  background-color: var(--sklearn-color-unfitted-level-2);\n",
       "}\n",
       "\n",
       "#sk-container-id-1 div.sk-label.fitted input.sk-toggleable__control:checked~label.sk-toggleable__label {\n",
       "  background-color: var(--sklearn-color-fitted-level-2);\n",
       "}\n",
       "\n",
       "/* Estimator-specific style */\n",
       "\n",
       "/* Colorize estimator box */\n",
       "#sk-container-id-1 div.sk-estimator input.sk-toggleable__control:checked~label.sk-toggleable__label {\n",
       "  /* unfitted */\n",
       "  background-color: var(--sklearn-color-unfitted-level-2);\n",
       "}\n",
       "\n",
       "#sk-container-id-1 div.sk-estimator.fitted input.sk-toggleable__control:checked~label.sk-toggleable__label {\n",
       "  /* fitted */\n",
       "  background-color: var(--sklearn-color-fitted-level-2);\n",
       "}\n",
       "\n",
       "#sk-container-id-1 div.sk-label label.sk-toggleable__label,\n",
       "#sk-container-id-1 div.sk-label label {\n",
       "  /* The background is the default theme color */\n",
       "  color: var(--sklearn-color-text-on-default-background);\n",
       "}\n",
       "\n",
       "/* On hover, darken the color of the background */\n",
       "#sk-container-id-1 div.sk-label:hover label.sk-toggleable__label {\n",
       "  color: var(--sklearn-color-text);\n",
       "  background-color: var(--sklearn-color-unfitted-level-2);\n",
       "}\n",
       "\n",
       "/* Label box, darken color on hover, fitted */\n",
       "#sk-container-id-1 div.sk-label.fitted:hover label.sk-toggleable__label.fitted {\n",
       "  color: var(--sklearn-color-text);\n",
       "  background-color: var(--sklearn-color-fitted-level-2);\n",
       "}\n",
       "\n",
       "/* Estimator label */\n",
       "\n",
       "#sk-container-id-1 div.sk-label label {\n",
       "  font-family: monospace;\n",
       "  font-weight: bold;\n",
       "  display: inline-block;\n",
       "  line-height: 1.2em;\n",
       "}\n",
       "\n",
       "#sk-container-id-1 div.sk-label-container {\n",
       "  text-align: center;\n",
       "}\n",
       "\n",
       "/* Estimator-specific */\n",
       "#sk-container-id-1 div.sk-estimator {\n",
       "  font-family: monospace;\n",
       "  border: 1px dotted var(--sklearn-color-border-box);\n",
       "  border-radius: 0.25em;\n",
       "  box-sizing: border-box;\n",
       "  margin-bottom: 0.5em;\n",
       "  /* unfitted */\n",
       "  background-color: var(--sklearn-color-unfitted-level-0);\n",
       "}\n",
       "\n",
       "#sk-container-id-1 div.sk-estimator.fitted {\n",
       "  /* fitted */\n",
       "  background-color: var(--sklearn-color-fitted-level-0);\n",
       "}\n",
       "\n",
       "/* on hover */\n",
       "#sk-container-id-1 div.sk-estimator:hover {\n",
       "  /* unfitted */\n",
       "  background-color: var(--sklearn-color-unfitted-level-2);\n",
       "}\n",
       "\n",
       "#sk-container-id-1 div.sk-estimator.fitted:hover {\n",
       "  /* fitted */\n",
       "  background-color: var(--sklearn-color-fitted-level-2);\n",
       "}\n",
       "\n",
       "/* Specification for estimator info (e.g. \"i\" and \"?\") */\n",
       "\n",
       "/* Common style for \"i\" and \"?\" */\n",
       "\n",
       ".sk-estimator-doc-link,\n",
       "a:link.sk-estimator-doc-link,\n",
       "a:visited.sk-estimator-doc-link {\n",
       "  float: right;\n",
       "  font-size: smaller;\n",
       "  line-height: 1em;\n",
       "  font-family: monospace;\n",
       "  background-color: var(--sklearn-color-background);\n",
       "  border-radius: 1em;\n",
       "  height: 1em;\n",
       "  width: 1em;\n",
       "  text-decoration: none !important;\n",
       "  margin-left: 0.5em;\n",
       "  text-align: center;\n",
       "  /* unfitted */\n",
       "  border: var(--sklearn-color-unfitted-level-1) 1pt solid;\n",
       "  color: var(--sklearn-color-unfitted-level-1);\n",
       "}\n",
       "\n",
       ".sk-estimator-doc-link.fitted,\n",
       "a:link.sk-estimator-doc-link.fitted,\n",
       "a:visited.sk-estimator-doc-link.fitted {\n",
       "  /* fitted */\n",
       "  border: var(--sklearn-color-fitted-level-1) 1pt solid;\n",
       "  color: var(--sklearn-color-fitted-level-1);\n",
       "}\n",
       "\n",
       "/* On hover */\n",
       "div.sk-estimator:hover .sk-estimator-doc-link:hover,\n",
       ".sk-estimator-doc-link:hover,\n",
       "div.sk-label-container:hover .sk-estimator-doc-link:hover,\n",
       ".sk-estimator-doc-link:hover {\n",
       "  /* unfitted */\n",
       "  background-color: var(--sklearn-color-unfitted-level-3);\n",
       "  color: var(--sklearn-color-background);\n",
       "  text-decoration: none;\n",
       "}\n",
       "\n",
       "div.sk-estimator.fitted:hover .sk-estimator-doc-link.fitted:hover,\n",
       ".sk-estimator-doc-link.fitted:hover,\n",
       "div.sk-label-container:hover .sk-estimator-doc-link.fitted:hover,\n",
       ".sk-estimator-doc-link.fitted:hover {\n",
       "  /* fitted */\n",
       "  background-color: var(--sklearn-color-fitted-level-3);\n",
       "  color: var(--sklearn-color-background);\n",
       "  text-decoration: none;\n",
       "}\n",
       "\n",
       "/* Span, style for the box shown on hovering the info icon */\n",
       ".sk-estimator-doc-link span {\n",
       "  display: none;\n",
       "  z-index: 9999;\n",
       "  position: relative;\n",
       "  font-weight: normal;\n",
       "  right: .2ex;\n",
       "  padding: .5ex;\n",
       "  margin: .5ex;\n",
       "  width: min-content;\n",
       "  min-width: 20ex;\n",
       "  max-width: 50ex;\n",
       "  color: var(--sklearn-color-text);\n",
       "  box-shadow: 2pt 2pt 4pt #999;\n",
       "  /* unfitted */\n",
       "  background: var(--sklearn-color-unfitted-level-0);\n",
       "  border: .5pt solid var(--sklearn-color-unfitted-level-3);\n",
       "}\n",
       "\n",
       ".sk-estimator-doc-link.fitted span {\n",
       "  /* fitted */\n",
       "  background: var(--sklearn-color-fitted-level-0);\n",
       "  border: var(--sklearn-color-fitted-level-3);\n",
       "}\n",
       "\n",
       ".sk-estimator-doc-link:hover span {\n",
       "  display: block;\n",
       "}\n",
       "\n",
       "/* \"?\"-specific style due to the `<a>` HTML tag */\n",
       "\n",
       "#sk-container-id-1 a.estimator_doc_link {\n",
       "  float: right;\n",
       "  font-size: 1rem;\n",
       "  line-height: 1em;\n",
       "  font-family: monospace;\n",
       "  background-color: var(--sklearn-color-background);\n",
       "  border-radius: 1rem;\n",
       "  height: 1rem;\n",
       "  width: 1rem;\n",
       "  text-decoration: none;\n",
       "  /* unfitted */\n",
       "  color: var(--sklearn-color-unfitted-level-1);\n",
       "  border: var(--sklearn-color-unfitted-level-1) 1pt solid;\n",
       "}\n",
       "\n",
       "#sk-container-id-1 a.estimator_doc_link.fitted {\n",
       "  /* fitted */\n",
       "  border: var(--sklearn-color-fitted-level-1) 1pt solid;\n",
       "  color: var(--sklearn-color-fitted-level-1);\n",
       "}\n",
       "\n",
       "/* On hover */\n",
       "#sk-container-id-1 a.estimator_doc_link:hover {\n",
       "  /* unfitted */\n",
       "  background-color: var(--sklearn-color-unfitted-level-3);\n",
       "  color: var(--sklearn-color-background);\n",
       "  text-decoration: none;\n",
       "}\n",
       "\n",
       "#sk-container-id-1 a.estimator_doc_link.fitted:hover {\n",
       "  /* fitted */\n",
       "  background-color: var(--sklearn-color-fitted-level-3);\n",
       "}\n",
       "</style><div id=\"sk-container-id-1\" class=\"sk-top-container\"><div class=\"sk-text-repr-fallback\"><pre>Pipeline(steps=[(&#x27;tfidf&#x27;,\n",
       "                 TfidfVectorizer(max_df=0.95, max_features=1000, min_df=2,\n",
       "                                 ngram_range=(1, 2), strip_accents=&#x27;unicode&#x27;,\n",
       "                                 token_pattern=&#x27;\\\\b[a-zA-Z]{2,}\\\\b&#x27;)),\n",
       "                (&#x27;classifier&#x27;,\n",
       "                 LogisticRegression(class_weight=&#x27;balanced&#x27;, max_iter=1000,\n",
       "                                    random_state=42))])</pre><b>In a Jupyter environment, please rerun this cell to show the HTML representation or trust the notebook. <br />On GitHub, the HTML representation is unable to render, please try loading this page with nbviewer.org.</b></div><div class=\"sk-container\" hidden><div class=\"sk-item sk-dashed-wrapped\"><div class=\"sk-label-container\"><div class=\"sk-label  sk-toggleable\"><input class=\"sk-toggleable__control sk-hidden--visually\" id=\"sk-estimator-id-1\" type=\"checkbox\" ><label for=\"sk-estimator-id-1\" class=\"sk-toggleable__label  sk-toggleable__label-arrow\"><div><div>Pipeline</div></div><div><a class=\"sk-estimator-doc-link \" rel=\"noreferrer\" target=\"_blank\" href=\"https://scikit-learn.org/1.6/modules/generated/sklearn.pipeline.Pipeline.html\">?<span>Documentation for Pipeline</span></a><span class=\"sk-estimator-doc-link \">i<span>Not fitted</span></span></div></label><div class=\"sk-toggleable__content \"><pre>Pipeline(steps=[(&#x27;tfidf&#x27;,\n",
       "                 TfidfVectorizer(max_df=0.95, max_features=1000, min_df=2,\n",
       "                                 ngram_range=(1, 2), strip_accents=&#x27;unicode&#x27;,\n",
       "                                 token_pattern=&#x27;\\\\b[a-zA-Z]{2,}\\\\b&#x27;)),\n",
       "                (&#x27;classifier&#x27;,\n",
       "                 LogisticRegression(class_weight=&#x27;balanced&#x27;, max_iter=1000,\n",
       "                                    random_state=42))])</pre></div> </div></div><div class=\"sk-serial\"><div class=\"sk-item\"><div class=\"sk-estimator  sk-toggleable\"><input class=\"sk-toggleable__control sk-hidden--visually\" id=\"sk-estimator-id-2\" type=\"checkbox\" ><label for=\"sk-estimator-id-2\" class=\"sk-toggleable__label  sk-toggleable__label-arrow\"><div><div>TfidfVectorizer</div></div><div><a class=\"sk-estimator-doc-link \" rel=\"noreferrer\" target=\"_blank\" href=\"https://scikit-learn.org/1.6/modules/generated/sklearn.feature_extraction.text.TfidfVectorizer.html\">?<span>Documentation for TfidfVectorizer</span></a></div></label><div class=\"sk-toggleable__content \"><pre>TfidfVectorizer(max_df=0.95, max_features=1000, min_df=2, ngram_range=(1, 2),\n",
       "                strip_accents=&#x27;unicode&#x27;, token_pattern=&#x27;\\\\b[a-zA-Z]{2,}\\\\b&#x27;)</pre></div> </div></div><div class=\"sk-item\"><div class=\"sk-estimator  sk-toggleable\"><input class=\"sk-toggleable__control sk-hidden--visually\" id=\"sk-estimator-id-3\" type=\"checkbox\" ><label for=\"sk-estimator-id-3\" class=\"sk-toggleable__label  sk-toggleable__label-arrow\"><div><div>LogisticRegression</div></div><div><a class=\"sk-estimator-doc-link \" rel=\"noreferrer\" target=\"_blank\" href=\"https://scikit-learn.org/1.6/modules/generated/sklearn.linear_model.LogisticRegression.html\">?<span>Documentation for LogisticRegression</span></a></div></label><div class=\"sk-toggleable__content \"><pre>LogisticRegression(class_weight=&#x27;balanced&#x27;, max_iter=1000, random_state=42)</pre></div> </div></div></div></div></div></div>"
      ],
      "text/plain": [
       "Pipeline(steps=[('tfidf',\n",
       "                 TfidfVectorizer(max_df=0.95, max_features=1000, min_df=2,\n",
       "                                 ngram_range=(1, 2), strip_accents='unicode',\n",
       "                                 token_pattern='\\\\b[a-zA-Z]{2,}\\\\b')),\n",
       "                ('classifier',\n",
       "                 LogisticRegression(class_weight='balanced', max_iter=1000,\n",
       "                                    random_state=42))])"
      ]
     },
     "execution_count": 18,
     "metadata": {},
     "output_type": "execute_result"
    }
   ],
   "source": [
    "pipeline = Pipeline([\n",
    "    ('tfidf', TfidfVectorizer(\n",
    "        max_features = 1000, # Limit feature\n",
    "        ngram_range=(1,2), #Uni and Bigram\n",
    "        min_df=2, # Ignore terms in less than 2 docs\n",
    "        max_df=0.95, # Ignore terms that appear in 95% of docs\n",
    "        strip_accents='unicode', #Normalize to unicode\n",
    "        lowercase=True,\n",
    "        token_pattern=r'\\b[a-zA-Z]{2,}\\b' # Only words with 2 or more letters\n",
    "    )),\n",
    "    ('classifier', LogisticRegression(\n",
    "        class_weight='balanced', #Handle imbalance\n",
    "        random_state=42,\n",
    "        max_iter=1000,\n",
    "        C=1.0 #C is the inverse of regularization strength.  Default is the l2 ridge regularization, minimizes feature without getting exactly zero\n",
    "    ))\n",
    "])\n",
    "pipeline"
   ]
  },
  {
   "cell_type": "code",
   "execution_count": 19,
   "metadata": {
    "colab": {
     "base_uri": "https://localhost:8080/"
    },
    "id": "8nTSLi-FkAcE",
    "outputId": "a049ab6a-6688-474f-c8ab-f387db96c4d7"
   },
   "outputs": [
    {
     "name": "stdout",
     "output_type": "stream",
     "text": [
      "Training TF-IDF + Logistic Regression...\n",
      "Training complete!\n",
      "\n",
      "==================================================\n",
      "VALIDATION SET PERFORMANCE\n",
      "==================================================\n",
      "\n",
      "Classification Report:\n",
      "                   precision    recall  f1-score   support\n",
      "\n",
      "   Other Jobs (0)      0.943     0.908     0.925       437\n",
      "AI/ML/DS Jobs (1)      0.710     0.803     0.754       122\n",
      "\n",
      "         accuracy                          0.886       559\n",
      "        macro avg      0.827     0.856     0.840       559\n",
      "     weighted avg      0.892     0.886     0.888       559\n",
      "\n",
      "\n",
      "Confusion Matrix:\n",
      "                 Predicted\n",
      "                 Other  AI\n",
      "Actual Other   397    40\n",
      "Actual AI       24    98\n",
      "\n",
      "Key Metrics for AI/ML/DS Jobs (Class 1):\n",
      "Precision: 0.710\n",
      "Recall: 0.803\n",
      "F1-Score: 0.754\n"
     ]
    }
   ],
   "source": [
    "# Train the model\n",
    "print(\"Training TF-IDF + Logistic Regression...\")\n",
    "pipeline.fit(X_train_combined, y_train)\n",
    "print(\"Training complete!\")\n",
    "\n",
    "# Make predictions on validation set\n",
    "y_val_pred = pipeline.predict(X_val_combined)\n",
    "y_val_proba = pipeline.predict_proba(X_val_combined)\n",
    "\n",
    "# Evaluate on validation set\n",
    "print(\"\\n\" + \"=\"*50)\n",
    "print(\"VALIDATION SET PERFORMANCE\")\n",
    "print(\"=\"*50)\n",
    "print(\"\\nClassification Report:\")\n",
    "print(classification_report(y_val, y_val_pred,\n",
    "                          target_names=['Other Jobs (0)', 'AI/ML/DS Jobs (1)'],  # Correct order\n",
    "                          digits=3))\n",
    "\n",
    "# Confusion Matrix\n",
    "cm = confusion_matrix(y_val, y_val_pred)\n",
    "print(\"\\nConfusion Matrix:\")\n",
    "print(\"                 Predicted\")\n",
    "print(\"                 Other  AI\")\n",
    "print(f\"Actual Other  {cm[0][0]:4d}  {cm[0][1]:4d}\")  # Row 0 = class 0\n",
    "print(f\"Actual AI     {cm[1][0]:4d}  {cm[1][1]:4d}\")  # Row 1 = class 1\n",
    "\n",
    "# Calculate key metrics for AI jobs (class 1)\n",
    "precision_ai = cm[1][1] / (cm[0][1] + cm[1][1]) if (cm[0][1] + cm[1][1]) > 0 else 0\n",
    "recall_ai = cm[1][1] / (cm[1][0] + cm[1][1]) if (cm[1][0] + cm[1][1]) > 0 else 0\n",
    "f1_ai = 2 * (precision_ai * recall_ai) / (precision_ai + recall_ai) if (precision_ai + recall_ai) > 0 else 0\n",
    "\n",
    "print(f\"\\nKey Metrics for AI/ML/DS Jobs (Class 1):\")\n",
    "print(f\"Precision: {precision_ai:.3f}\")\n",
    "print(f\"Recall: {recall_ai:.3f}\")\n",
    "print(f\"F1-Score: {f1_ai:.3f}\")"
   ]
  },
  {
   "cell_type": "code",
   "execution_count": 20,
   "metadata": {
    "colab": {
     "base_uri": "https://localhost:8080/"
    },
    "id": "xUrlRTHtnAtv",
    "outputId": "f513a08a-b85b-4d5f-a56d-7f3eee6c5a15"
   },
   "outputs": [
    {
     "name": "stdout",
     "output_type": "stream",
     "text": [
      "\n",
      "==================================================\n",
      "TOP FEATURES\n",
      "==================================================\n",
      "\n",
      "Top 20 features indicating AI/ML/DS jobs:\n",
      " 1. ai                   (score: 5.663)\n",
      " 2. ml                   (score: 4.041)\n",
      " 3. llm                  (score: 3.426)\n",
      " 4. genai                (score: 3.018)\n",
      " 5. models               (score: 2.695)\n",
      " 6. ai engineer          (score: 2.647)\n",
      " 7. learning             (score: 2.585)\n",
      " 8. llms                 (score: 2.469)\n",
      " 9. machine learning     (score: 2.132)\n",
      "10. machine              (score: 2.122)\n",
      "11. agents               (score: 2.031)\n",
      "12. de                   (score: 2.014)\n",
      "13. model                (score: 1.908)\n",
      "14. data scientist       (score: 1.794)\n",
      "15. language             (score: 1.783)\n",
      "16. nlp                  (score: 1.759)\n",
      "17. scientist            (score: 1.733)\n",
      "18. artificial           (score: 1.572)\n",
      "19. prompt               (score: 1.537)\n",
      "20. ai ml                (score: 1.449)\n",
      "\n",
      "Top 20 features indicating OTHER jobs:\n",
      " 1. manager              (score: -1.242)\n",
      " 2. marketing            (score: -1.212)\n",
      " 3. data engineer        (score: -0.944)\n",
      " 4. vision               (score: -0.857)\n",
      " 5. bi                   (score: -0.824)\n",
      " 6. office               (score: -0.806)\n",
      " 7. web                  (score: -0.805)\n",
      " 8. technology           (score: -0.786)\n",
      " 9. support              (score: -0.738)\n",
      "10. google               (score: -0.715)\n",
      "11. business             (score: -0.712)\n",
      "12. developer            (score: -0.700)\n",
      "13. networking           (score: -0.692)\n",
      "14. computer vision      (score: -0.686)\n",
      "15. site                 (score: -0.671)\n",
      "16. sales                (score: -0.666)\n",
      "17. high                 (score: -0.654)\n",
      "18. hardware             (score: -0.630)\n",
      "19. excel                (score: -0.623)\n",
      "20. strategy             (score: -0.599)\n"
     ]
    }
   ],
   "source": [
    "# Get feature names and coefficients\n",
    "tfidf = pipeline.named_steps['tfidf']\n",
    "classifier = pipeline.named_steps['classifier']\n",
    "feature_names = tfidf.get_feature_names_out()\n",
    "coefficients = classifier.coef_[0]\n",
    "\n",
    "# Get top features for each class\n",
    "top_n = 20\n",
    "top_ai_indices = np.argsort(coefficients)[-top_n:][::-1]\n",
    "top_other_indices = np.argsort(coefficients)[:top_n]\n",
    "\n",
    "print(\"\\n\" + \"=\"*50)\n",
    "print(\"TOP FEATURES\")\n",
    "print(\"=\"*50)\n",
    "\n",
    "print(f\"\\nTop {top_n} features indicating AI/ML/DS jobs:\")\n",
    "for i, idx in enumerate(top_ai_indices, 1):\n",
    "    print(f\"{i:2d}. {feature_names[idx]:20s} (score: {coefficients[idx]:.3f})\")\n",
    "\n",
    "print(f\"\\nTop {top_n} features indicating OTHER jobs:\")\n",
    "for i, idx in enumerate(top_other_indices, 1):\n",
    "    print(f\"{i:2d}. {feature_names[idx]:20s} (score: {coefficients[idx]:.3f})\")"
   ]
  },
  {
   "cell_type": "markdown",
   "metadata": {
    "id": "GWwZN-iMtZy8"
   },
   "source": [
    "# Optimize Decision Threshold of the Logistic Regression"
   ]
  },
  {
   "cell_type": "code",
   "execution_count": 21,
   "metadata": {
    "colab": {
     "base_uri": "https://localhost:8080/"
    },
    "id": "NeCT_CqQnKpk",
    "outputId": "60a9b558-7d0d-4b94-9f21-eabc8a20c6cf"
   },
   "outputs": [
    {
     "name": "stdout",
     "output_type": "stream",
     "text": [
      "Current threshold: 0.5\n",
      "Optimal threshold: 0.471\n",
      "F1 at optimal threshold: 0.790\n"
     ]
    }
   ],
   "source": [
    "from sklearn.metrics  import precision_recall_curve, roc_curve, auc\n",
    "import matplotlib.pyplot as plt\n",
    "\n",
    "# Get probabilities for positive class (AI jobs)\n",
    "y_val_proba_ai = y_val_proba[:,1]\n",
    "\n",
    "# Calculate precision-recall curve\n",
    "precision, recall, thresholds = precision_recall_curve(y_val, y_val_proba_ai)\n",
    "\n",
    "# Find threshold that maximizes the F1 score\n",
    "f1_scores = 2 * (precision * recall) / (precision + recall + 1e-10)\n",
    "\n",
    "best_threshold_idx = np.argmax(f1_scores[:-1]) # Exclude the last point\n",
    "best_threshold = thresholds[best_threshold_idx]\n",
    "best_f1 = f1_scores[best_threshold_idx]\n",
    "\n",
    "print(f\"Current threshold: 0.5\")\n",
    "print(f\"Optimal threshold: {best_threshold:.3f}\")\n",
    "print(f\"F1 at optimal threshold: {best_f1:.3f}\")"
   ]
  },
  {
   "cell_type": "code",
   "execution_count": 22,
   "metadata": {
    "colab": {
     "base_uri": "https://localhost:8080/",
     "height": 564
    },
    "id": "65oC-ncVttTl",
    "outputId": "c618fc61-5a46-46d2-ac8f-a49e78b98c1a"
   },
   "outputs": [
    {
     "data": {
      "image/png": "[encoded data removed]",
      "text/plain": [
       "<Figure size 1000x600 with 1 Axes>"
      ]
     },
     "metadata": {},
     "output_type": "display_data"
    }
   ],
   "source": [
    "# Plot precision-recall curve\n",
    "plt.figure(figsize=(10, 6))\n",
    "plt.plot(recall[:-1], precision[:-1], 'b-', label='Precision-Recall curve')\n",
    "plt.scatter(recall[best_threshold_idx], precision[best_threshold_idx],\n",
    "            color='red', s=100, label=f'Best F1 threshold = {best_threshold:.3f}')\n",
    "plt.xlabel('Recall')\n",
    "plt.ylabel('Precision')\n",
    "plt.title('Precision-Recall Curve for AI Job Classification')\n",
    "plt.legend()\n",
    "plt.grid(True, alpha=0.3)\n",
    "plt.show()"
   ]
  },
  {
   "cell_type": "code",
   "execution_count": 23,
   "metadata": {
    "colab": {
     "base_uri": "https://localhost:8080/"
    },
    "id": "8irh-AhFttnn",
    "outputId": "3e740003-97c2-4426-9e3b-e38c0fb886b1"
   },
   "outputs": [
    {
     "name": "stdout",
     "output_type": "stream",
     "text": [
      "\n",
      "Threshold Analysis for AI/ML/DS Jobs (Class 1):\n",
      "Threshold | Precision | Recall | F1-Score | AI Jobs Found\n",
      "------------------------------------------------------------\n",
      "    0.300 |     0.589 |  0.951 |    0.727 |          197\n",
      "    0.400 |     0.643 |  0.902 |    0.751 |          171\n",
      "    0.500 |     0.710 |  0.803 |    0.754 |          138\n",
      "    0.471 |     0.718 |  0.877 |    0.790 |          149\n",
      "    0.600 |     0.754 |  0.754 |    0.754 |          122\n",
      "    0.700 |     0.788 |  0.639 |    0.706 |           99\n",
      "\n",
      "Best threshold for F1-score: 0.471\n",
      "At default (0.5): Precision=0.943, Recall=0.908, F1=0.925\n"
     ]
    }
   ],
   "source": [
    "# Test different thresholds\n",
    "thresholds_to_test = [0.3, 0.4, 0.5, best_threshold, 0.6, 0.7]\n",
    "\n",
    "# Recalculate with correct metrics for AI jobs (class 1)\n",
    "print(\"\\nThreshold Analysis for AI/ML/DS Jobs (Class 1):\")\n",
    "print(\"Threshold | Precision | Recall | F1-Score | AI Jobs Found\")\n",
    "print(\"-\" * 60)\n",
    "\n",
    "for thresh in thresholds_to_test:\n",
    "    y_pred_thresh = (y_val_proba_ai >= thresh).astype(int)\n",
    "\n",
    "    # Get classification report for this threshold\n",
    "    report = classification_report(y_val, y_pred_thresh, output_dict=True)\n",
    "\n",
    "    # Extract metrics for class 1 (AI jobs)\n",
    "    precision_ai = report['1']['precision']\n",
    "    recall_ai = report['1']['recall']\n",
    "    f1_ai = report['1']['f1-score']\n",
    "    support_ai = report['1']['support']\n",
    "\n",
    "    # Count predictions\n",
    "    ai_predicted = np.sum(y_pred_thresh == 1)\n",
    "\n",
    "    print(f\"{thresh:9.3f} | {precision_ai:9.3f} | {recall_ai:6.3f} | {f1_ai:8.3f} | {ai_predicted:12d}\")\n",
    "\n",
    "# Show optimal threshold performance\n",
    "print(f\"\\nBest threshold for F1-score: {best_threshold:.3f}\")\n",
    "print(f\"At default (0.5): Precision={0.943:.3f}, Recall={0.908:.3f}, F1={0.925:.3f}\")"
   ]
  },
  {
   "cell_type": "markdown",
   "metadata": {
    "id": "dfU2xl_YxJ0S"
   },
   "source": [
    "# Test Set Evaluation"
   ]
  },
  {
   "cell_type": "code",
   "execution_count": 24,
   "metadata": {
    "colab": {
     "base_uri": "https://localhost:8080/"
    },
    "id": "6SxQqPTQwDOf",
    "outputId": "38d0902d-aa2b-499e-cbfd-1787b966bca8"
   },
   "outputs": [
    {
     "name": "stdout",
     "output_type": "stream",
     "text": [
      "============================================================\n",
      "FINAL TEST SET PERFORMANCE\n",
      "============================================================\n",
      "\n",
      "Classification Report:\n",
      "                   precision    recall  f1-score   support\n",
      "\n",
      "   Other Jobs (0)      0.961     0.913     0.937       437\n",
      "AI/ML/DS Jobs (1)      0.736     0.869     0.797       122\n",
      "\n",
      "         accuracy                          0.903       559\n",
      "        macro avg      0.849     0.891     0.867       559\n",
      "     weighted avg      0.912     0.903     0.906       559\n",
      "\n",
      "\n",
      "Confusion Matrix:\n",
      "                   Predicted\n",
      "                   Other  AI\n",
      "Actual Other     399    38\n",
      "Actual AI         16   106\n",
      "\n",
      "Key Metrics for AI/ML/DS Jobs:\n",
      "Precision: 0.736\n",
      "Recall: 0.869\n",
      "F1-Score: 0.797\n",
      "\n",
      "============================================================\n",
      "PERFORMANCE COMPARISON\n",
      "============================================================\n",
      "              Validation Set | Test Set\n",
      "Precision:    0.943         | 0.736\n",
      "Recall:       0.908         | 0.869\n",
      "F1-Score:     0.925         | 0.797\n"
     ]
    }
   ],
   "source": [
    "# Prepare test data\n",
    "X_test_combined = test_df.apply(combine_text, axis=1)\n",
    "y_test = test_df['Label']\n",
    "\n",
    "# Make predictions on test set\n",
    "y_test_pred = pipeline.predict(X_test_combined)\n",
    "y_test_proba = pipeline.predict_proba(X_test_combined)[:, 1]  # Probability of AI job\n",
    "\n",
    "# Test Set Performance\n",
    "print(\"=\"*60)\n",
    "print(\"FINAL TEST SET PERFORMANCE\")\n",
    "print(\"=\"*60)\n",
    "print(\"\\nClassification Report:\")\n",
    "print(classification_report(y_test, y_test_pred,\n",
    "                          target_names=['Other Jobs (0)', 'AI/ML/DS Jobs (1)'],  # Correct order\n",
    "                          digits=3))\n",
    "\n",
    "# Confusion Matrix\n",
    "cm = confusion_matrix(y_test, y_test_pred)\n",
    "print(\"\\nConfusion Matrix:\")\n",
    "print(\"                   Predicted\")\n",
    "print(\"                   Other  AI\")\n",
    "print(f\"Actual Other    {cm[0][0]:4d}  {cm[0][1]:4d}\")\n",
    "print(f\"Actual AI       {cm[1][0]:4d}  {cm[1][1]:4d}\")\n",
    "\n",
    "# Calculate key metrics for AI jobs\n",
    "precision_ai = cm[1][1] / (cm[0][1] + cm[1][1]) if (cm[0][1] + cm[1][1]) > 0 else 0\n",
    "recall_ai = cm[1][1] / (cm[1][0] + cm[1][1]) if (cm[1][0] + cm[1][1]) > 0 else 0\n",
    "f1_ai = 2 * (precision_ai * recall_ai) / (precision_ai + recall_ai) if (precision_ai + recall_ai) > 0 else 0\n",
    "\n",
    "print(f\"\\nKey Metrics for AI/ML/DS Jobs:\")\n",
    "print(f\"Precision: {precision_ai:.3f}\")\n",
    "print(f\"Recall: {recall_ai:.3f}\")\n",
    "print(f\"F1-Score: {f1_ai:.3f}\")\n",
    "\n",
    "# Compare validation vs test performance\n",
    "print(\"\\n\" + \"=\"*60)\n",
    "print(\"PERFORMANCE COMPARISON\")\n",
    "print(\"=\"*60)\n",
    "print(\"              Validation Set | Test Set\")\n",
    "print(f\"Precision:    0.943         | {precision_ai:.3f}\")\n",
    "print(f\"Recall:       0.908         | {recall_ai:.3f}\")\n",
    "print(f\"F1-Score:     0.925         | {f1_ai:.3f}\")"
   ]
  },
  {
   "cell_type": "code",
   "execution_count": 25,
   "metadata": {
    "colab": {
     "base_uri": "https://localhost:8080/"
    },
    "id": "nkGidp3Kxsht",
    "outputId": "8c121a1b-775a-4904-bff5-6492a107d859"
   },
   "outputs": [
    {
     "name": "stdout",
     "output_type": "stream",
     "text": [
      "\n",
      "============================================================\n",
      "HIGH CONFIDENCE CORRECT AI PREDICTIONS (Sample)\n",
      "============================================================\n",
      "Title: Senior AI Data Scientist\n",
      "Confidence: 0.955\n",
      "----------------------------------------\n",
      "Title: Freelance Software Developer (C++) - AI Trainer\n",
      "Confidence: 0.928\n",
      "----------------------------------------\n",
      "Title: ML/AI Engineer\n",
      "Confidence: 0.994\n",
      "----------------------------------------\n",
      "Title: Software AI Engineer\n",
      "Confidence: 0.959\n",
      "----------------------------------------\n",
      "Title: מוביל.ת AI לאגף הכספים\n",
      "Confidence: 0.971\n",
      "----------------------------------------\n",
      "\n",
      "============================================================\n",
      "FALSE NEGATIVES (AI jobs we missed)\n",
      "============================================================\n",
      "Title: Data Engineer -Apps Team\n",
      "AI Probability: 0.484\n",
      "Why missed: Check description for non-AI terms\n",
      "----------------------------------------\n",
      "Title: Data Science Team Lead\n",
      "AI Probability: 0.484\n",
      "Why missed: Check description for non-AI terms\n",
      "----------------------------------------\n",
      "Title: Software Engineer\n",
      "AI Probability: 0.481\n",
      "Why missed: Check description for non-AI terms\n",
      "----------------------------------------\n",
      "Title: Software Engineer III, Research, Education\n",
      "AI Probability: 0.481\n",
      "Why missed: Check description for non-AI terms\n",
      "----------------------------------------\n",
      "Title: Desarrollador/a + GenAI\n",
      "AI Probability: 0.481\n",
      "Why missed: Check description for non-AI terms\n",
      "----------------------------------------\n",
      "\n",
      "============================================================\n",
      "FALSE POSITIVES (Non-AI predicted as AI)\n",
      "============================================================\n",
      "Title: AI Research Engineer - Platform Innovation\n",
      "AI Probability: 0.944\n",
      "----------------------------------------\n",
      "Title: Software Engineer - AI Engineering\n",
      "AI Probability: 0.936\n",
      "----------------------------------------\n",
      "Title: Freelance Software Developer (Ruby) - AI Trainer\n",
      "AI Probability: 0.927\n",
      "----------------------------------------\n",
      "Title: DL/ML\n",
      "AI Probability: 0.916\n",
      "----------------------------------------\n",
      "Title: Generative AI Evangelist\n",
      "AI Probability: 0.887\n",
      "----------------------------------------\n",
      "\n",
      "============================================================\n",
      "CONFIDENCE DISTRIBUTION\n",
      "============================================================\n",
      "\n",
      "For actual AI jobs:\n",
      "Mean confidence: 0.748\n",
      "Min confidence: 0.099\n",
      "Jobs with >0.8 confidence: 60/122 (49.2%)\n",
      "\n",
      "For actual Other jobs:\n",
      "Mean confidence: 0.210\n",
      "Max confidence: 0.944\n",
      "Jobs with <0.2 confidence: 287/437 (65.7%)\n"
     ]
    }
   ],
   "source": [
    "# Analyze predictions with confidence scores\n",
    "test_results = test_df.copy()\n",
    "test_results['Predicted_Label'] = y_test_pred\n",
    "test_results['AI_Probability'] = y_test_proba\n",
    "test_results['Correct'] = test_results['Label'] == test_results['Predicted_Label']\n",
    "\n",
    "# High confidence correct predictions\n",
    "print(\"\\n\" + \"=\"*60)\n",
    "print(\"HIGH CONFIDENCE CORRECT AI PREDICTIONS (Sample)\")\n",
    "print(\"=\"*60)\n",
    "high_conf_correct = test_results[\n",
    "    (test_results['Label'] == 1) &\n",
    "    (test_results['Predicted_Label'] == 1) &\n",
    "    (test_results['AI_Probability'] > 0.9)\n",
    "].head(5)\n",
    "\n",
    "for idx, row in high_conf_correct.iterrows():\n",
    "    print(f\"Title: {row['Job_Title_Clean']}\")\n",
    "    print(f\"Confidence: {row['AI_Probability']:.3f}\")\n",
    "    print(\"-\" * 40)\n",
    "\n",
    "# False negatives (missed AI jobs)\n",
    "print(\"\\n\" + \"=\"*60)\n",
    "print(\"FALSE NEGATIVES (AI jobs we missed)\")\n",
    "print(\"=\"*60)\n",
    "false_negatives = test_results[\n",
    "    (test_results['Label'] == 1) &\n",
    "    (test_results['Predicted_Label'] == 0)\n",
    "].sort_values('AI_Probability', ascending=False).head(5)\n",
    "\n",
    "for idx, row in false_negatives.iterrows():\n",
    "    print(f\"Title: {row['Job_Title_Clean']}\")\n",
    "    print(f\"AI Probability: {row['AI_Probability']:.3f}\")\n",
    "    print(f\"Why missed: Check description for non-AI terms\")\n",
    "    print(\"-\" * 40)\n",
    "\n",
    "# False positives (non-AI predicted as AI)\n",
    "print(\"\\n\" + \"=\"*60)\n",
    "print(\"FALSE POSITIVES (Non-AI predicted as AI)\")\n",
    "print(\"=\"*60)\n",
    "false_positives = test_results[\n",
    "    (test_results['Label'] == 0) &\n",
    "    (test_results['Predicted_Label'] == 1)\n",
    "].sort_values('AI_Probability', ascending=False).head(5)\n",
    "\n",
    "for idx, row in false_positives.iterrows():\n",
    "    print(f\"Title: {row['Job_Title_Clean']}\")\n",
    "    print(f\"AI Probability: {row['AI_Probability']:.3f}\")\n",
    "    print(\"-\" * 40)\n",
    "\n",
    "# Distribution of probabilities\n",
    "print(\"\\n\" + \"=\"*60)\n",
    "print(\"CONFIDENCE DISTRIBUTION\")\n",
    "print(\"=\"*60)\n",
    "print(\"\\nFor actual AI jobs:\")\n",
    "ai_jobs_probs = test_results[test_results['Label'] == 1]['AI_Probability']\n",
    "print(f\"Mean confidence: {ai_jobs_probs.mean():.3f}\")\n",
    "print(f\"Min confidence: {ai_jobs_probs.min():.3f}\")\n",
    "print(f\"Jobs with >0.8 confidence: {(ai_jobs_probs > 0.8).sum()}/{len(ai_jobs_probs)} ({(ai_jobs_probs > 0.8).mean()*100:.1f}%)\")\n",
    "\n",
    "print(\"\\nFor actual Other jobs:\")\n",
    "other_jobs_probs = test_results[test_results['Label'] == 0]['AI_Probability']\n",
    "print(f\"Mean confidence: {other_jobs_probs.mean():.3f}\")\n",
    "print(f\"Max confidence: {other_jobs_probs.max():.3f}\")\n",
    "print(f\"Jobs with <0.2 confidence: {(other_jobs_probs < 0.2).sum()}/{len(other_jobs_probs)} ({(other_jobs_probs < 0.2).mean()*100:.1f}%)\")"
   ]
  },
  {
   "cell_type": "code",
   "execution_count": 26,
   "metadata": {
    "colab": {
     "base_uri": "https://localhost:8080/"
    },
    "id": "-0g4XsPwxvdR",
    "outputId": "2a83b8b4-f769-4b73-a746-69464207bf71"
   },
   "outputs": [
    {
     "name": "stdout",
     "output_type": "stream",
     "text": [
      "============================================================\n",
      "TEST SET PERFORMANCE WITH DIFFERENT THRESHOLDS\n",
      "============================================================\n",
      "\n",
      "==============================\n",
      "Threshold: 0.500 (default)\n",
      "==============================\n",
      "\n",
      "Classification Report:\n",
      "                   precision    recall  f1-score   support\n",
      "\n",
      "   Other Jobs (0)      0.961     0.913     0.937       437\n",
      "AI/ML/DS Jobs (1)      0.736     0.869     0.797       122\n",
      "\n",
      "         accuracy                          0.903       559\n",
      "        macro avg      0.849     0.891     0.867       559\n",
      "     weighted avg      0.912     0.903     0.906       559\n",
      "\n",
      "\n",
      "Confusion Matrix:\n",
      "                   Predicted\n",
      "                   Other  AI\n",
      "Actual Other     399    38\n",
      "Actual AI         16   106\n",
      "\n",
      "AI/ML/DS Jobs Metrics:\n",
      "Precision: 0.736\n",
      "Recall: 0.869\n",
      "F1-Score: 0.797\n",
      "Total AI jobs predicted: 144\n",
      "\n",
      "==============================\n",
      "Threshold: 0.471 (optimal)\n",
      "==============================\n",
      "\n",
      "Classification Report:\n",
      "                   precision    recall  f1-score   support\n",
      "\n",
      "   Other Jobs (0)      0.973     0.904     0.937       437\n",
      "AI/ML/DS Jobs (1)      0.725     0.910     0.807       122\n",
      "\n",
      "         accuracy                          0.905       559\n",
      "        macro avg      0.849     0.907     0.872       559\n",
      "     weighted avg      0.919     0.905     0.909       559\n",
      "\n",
      "\n",
      "Confusion Matrix:\n",
      "                   Predicted\n",
      "                   Other  AI\n",
      "Actual Other     395    42\n",
      "Actual AI         11   111\n",
      "\n",
      "AI/ML/DS Jobs Metrics:\n",
      "Precision: 0.725\n",
      "Recall: 0.910\n",
      "F1-Score: 0.807\n",
      "Total AI jobs predicted: 153\n",
      "\n",
      "============================================================\n",
      "BUSINESS IMPACT ANALYSIS\n",
      "============================================================\n",
      "\n",
      "With different thresholds, you would review:\n",
      "\n",
      "Threshold 0.500 (default):\n",
      "  - Jobs to review: 144\n",
      "  - Actual AI jobs: 106 (73.6% precision)\n",
      "  - False positives: 38\n",
      "  - Missed AI jobs: 16\n",
      "\n",
      "Threshold 0.471 (optimal):\n",
      "  - Jobs to review: 153\n",
      "  - Actual AI jobs: 111 (72.5% precision)\n",
      "  - False positives: 42\n",
      "  - Missed AI jobs: 11\n"
     ]
    }
   ],
   "source": [
    "# Test with different thresholds\n",
    "thresholds = {\n",
    "    'default': 0.5,\n",
    "    'optimal': best_threshold  # This was 0.471 from validation\n",
    "}\n",
    "\n",
    "print(\"=\"*60)\n",
    "print(\"TEST SET PERFORMANCE WITH DIFFERENT THRESHOLDS\")\n",
    "print(\"=\"*60)\n",
    "\n",
    "for name, threshold in thresholds.items():\n",
    "    print(f\"\\n{'='*30}\")\n",
    "    print(f\"Threshold: {threshold:.3f} ({name})\")\n",
    "    print(f\"{'='*30}\")\n",
    "\n",
    "    # Apply threshold\n",
    "    y_test_pred_thresh = (y_test_proba >= threshold).astype(int)\n",
    "\n",
    "    # Classification report\n",
    "    print(\"\\nClassification Report:\")\n",
    "    print(classification_report(y_test, y_test_pred_thresh,\n",
    "                              target_names=['Other Jobs (0)', 'AI/ML/DS Jobs (1)'],\n",
    "                              digits=3))\n",
    "\n",
    "    # Confusion Matrix\n",
    "    cm = confusion_matrix(y_test, y_test_pred_thresh)\n",
    "    print(\"\\nConfusion Matrix:\")\n",
    "    print(\"                   Predicted\")\n",
    "    print(\"                   Other  AI\")\n",
    "    print(f\"Actual Other    {cm[0][0]:4d}  {cm[0][1]:4d}\")\n",
    "    print(f\"Actual AI       {cm[1][0]:4d}  {cm[1][1]:4d}\")\n",
    "\n",
    "    # Key metrics for AI jobs\n",
    "    precision_ai = cm[1][1] / (cm[0][1] + cm[1][1]) if (cm[0][1] + cm[1][1]) > 0 else 0\n",
    "    recall_ai = cm[1][1] / (cm[1][0] + cm[1][1]) if (cm[1][0] + cm[1][1]) > 0 else 0\n",
    "    f1_ai = 2 * (precision_ai * recall_ai) / (precision_ai + recall_ai) if (precision_ai + recall_ai) > 0 else 0\n",
    "\n",
    "    print(f\"\\nAI/ML/DS Jobs Metrics:\")\n",
    "    print(f\"Precision: {precision_ai:.3f}\")\n",
    "    print(f\"Recall: {recall_ai:.3f}\")\n",
    "    print(f\"F1-Score: {f1_ai:.3f}\")\n",
    "    print(f\"Total AI jobs predicted: {cm[0][1] + cm[1][1]}\")\n",
    "\n",
    "# Business impact analysis\n",
    "print(\"\\n\" + \"=\"*60)\n",
    "print(\"BUSINESS IMPACT ANALYSIS\")\n",
    "print(\"=\"*60)\n",
    "print(\"\\nWith different thresholds, you would review:\")\n",
    "for name, threshold in thresholds.items():\n",
    "    y_pred = (y_test_proba >= threshold).astype(int)\n",
    "    total_predicted_ai = np.sum(y_pred == 1)\n",
    "    true_ai = np.sum((y_test == 1) & (y_pred == 1))\n",
    "    false_ai = np.sum((y_test == 0) & (y_pred == 1))\n",
    "    missed_ai = np.sum((y_test == 1) & (y_pred == 0))\n",
    "\n",
    "    print(f\"\\nThreshold {threshold:.3f} ({name}):\")\n",
    "    print(f\"  - Jobs to review: {total_predicted_ai}\")\n",
    "    print(f\"  - Actual AI jobs: {true_ai} ({true_ai/total_predicted_ai*100:.1f}% precision)\")\n",
    "    print(f\"  - False positives: {false_ai}\")\n",
    "    print(f\"  - Missed AI jobs: {missed_ai}\")"
   ]
  },
  {
   "cell_type": "code",
   "execution_count": 27,
   "metadata": {
    "colab": {
     "base_uri": "https://localhost:8080/"
    },
    "id": "XO8kEyp-yI4v",
    "outputId": "22ed733d-3c93-4647-ca15-9a965a95f8f1"
   },
   "outputs": [
    {
     "name": "stdout",
     "output_type": "stream",
     "text": [
      "Model saved as 'ai_job_classifier.pkl'\n",
      "Optimal threshold: 0.471\n",
      "Expected performance: {'test_precision': 0.725, 'test_recall': 0.91, 'test_f1': 0.807}\n"
     ]
    }
   ],
   "source": [
    "import joblib\n",
    "\n",
    "# Save model and threshold\n",
    "model_package = {\n",
    "    'pipeline': pipeline,\n",
    "    'threshold': 0.471,\n",
    "    'performance': {\n",
    "        'test_precision': 0.725,\n",
    "        'test_recall': 0.910,\n",
    "        'test_f1': 0.807\n",
    "    }\n",
    "}\n",
    "\n",
    "joblib.dump(model_package, 'ai_job_classifier.pkl')\n",
    "print(\"Model saved as 'ai_job_classifier.pkl'\")\n",
    "print(f\"Optimal threshold: {model_package['threshold']}\")\n",
    "print(f\"Expected performance: {model_package['performance']}\")"
   ]
  },
  {
   "cell_type": "code",
   "execution_count": 28,
   "metadata": {
    "colab": {
     "base_uri": "https://localhost:8080/"
    },
    "id": "350xYvOFyxK1",
    "outputId": "ccaf818e-951c-4f96-ca70-69e8ac4f844f"
   },
   "outputs": [
    {
     "name": "stdout",
     "output_type": "stream",
     "text": [
      "{'is_ai_job': np.True_, 'confidence': np.float64(0.8478891696669246), 'decision': 'AI/ML/NLP Job'}\n"
     ]
    }
   ],
   "source": [
    "def predict_ai_job(title, description, model_package):\n",
    "    \"\"\"Predict if a job is AI/ML/NLP related\"\"\"\n",
    "    # Combine text\n",
    "    text = (title + ' ') * 3 + description\n",
    "\n",
    "    # Get probability\n",
    "    prob = model_package['pipeline'].predict_proba([text])[0, 1]\n",
    "\n",
    "    # Apply threshold\n",
    "    is_ai_job = prob >= model_package['threshold']\n",
    "\n",
    "    return {\n",
    "        'is_ai_job': is_ai_job,\n",
    "        'confidence': prob,\n",
    "        'decision': 'AI/ML/NLP Job' if is_ai_job else 'Other Job'\n",
    "    }\n",
    "\n",
    "# Test it\n",
    "test_job = predict_ai_job(\n",
    "    \"Machine Learning Engineer\",\n",
    "    \"Build NLP models using transformers...\",\n",
    "    model_package\n",
    ")\n",
    "print(test_job)"
   ]
  },
  {
   "cell_type": "markdown",
   "metadata": {
    "id": "LA1jZ8th2jBf"
   },
   "source": [
    "#  Test Alternative Models"
   ]
  },
  {
   "cell_type": "markdown",
   "metadata": {
    "id": "TxPjTgvYYJTm"
   },
   "source": [
    "## Naive Bayes\n"
   ]
  },
  {
   "cell_type": "code",
   "execution_count": 29,
   "metadata": {
    "colab": {
     "base_uri": "https://localhost:8080/"
    },
    "id": "KlKijhWHzEZk",
    "outputId": "69a406cc-ceba-4c48-acd3-55171b8116d0"
   },
   "outputs": [
    {
     "name": "stdout",
     "output_type": "stream",
     "text": [
      "============================================================\n",
      "TESTING NAIVE BAYES\n",
      "============================================================\n",
      "\n",
      "Training time: 2.01 seconds\n",
      "\n",
      "Validation Performance:\n",
      "                   precision    recall  f1-score   support\n",
      "\n",
      "   Other Jobs (0)      0.875     0.975     0.922       437\n",
      "AI/ML/DS Jobs (1)      0.847     0.500     0.629       122\n",
      "\n",
      "         accuracy                          0.871       559\n",
      "        macro avg      0.861     0.737     0.775       559\n",
      "     weighted avg      0.869     0.871     0.858       559\n",
      "\n"
     ]
    }
   ],
   "source": [
    "from sklearn.naive_bayes import MultinomialNB\n",
    "from sklearn.svm import LinearSVC\n",
    "from sklearn.ensemble import VotingClassifier\n",
    "import time\n",
    "\n",
    "# Store results for comparison\n",
    "results = {}\n",
    "\n",
    "# 1. Naive Bayes\n",
    "print(\"=\"*60)\n",
    "print(\"TESTING NAIVE BAYES\")\n",
    "print(\"=\"*60)\n",
    "\n",
    "nb_pipeline = Pipeline([\n",
    "    ('tfidf', TfidfVectorizer(\n",
    "        max_features=1000,\n",
    "        ngram_range=(1,2),\n",
    "        min_df=2,\n",
    "        max_df=0.95,\n",
    "        strip_accents='unicode',\n",
    "        lowercase=True,\n",
    "        token_pattern=r'\\b[a-zA-Z]{2,}\\b'\n",
    "    )),\n",
    "    ('classifier', MultinomialNB(alpha=1.0))  # alpha is smoothing parameter\n",
    "])\n",
    "\n",
    "# Train and time it\n",
    "start_time = time.time()\n",
    "nb_pipeline.fit(X_train_combined, y_train)\n",
    "nb_train_time = time.time() - start_time\n",
    "\n",
    "# Predict on validation\n",
    "y_val_pred_nb = nb_pipeline.predict(X_val_combined)\n",
    "y_val_proba_nb = nb_pipeline.predict_proba(X_val_combined)[:, 1]\n",
    "\n",
    "# Evaluate\n",
    "print(f\"\\nTraining time: {nb_train_time:.2f} seconds\")\n",
    "print(\"\\nValidation Performance:\")\n",
    "print(classification_report(y_val, y_val_pred_nb,\n",
    "                          target_names=['Other Jobs (0)', 'AI/ML/DS Jobs (1)'],\n",
    "                          digits=3))\n",
    "\n",
    "# Store results\n",
    "cm_nb = confusion_matrix(y_val, y_val_pred_nb)\n",
    "precision_nb = cm_nb[1][1] / (cm_nb[0][1] + cm_nb[1][1]) if (cm_nb[0][1] + cm_nb[1][1]) > 0 else 0\n",
    "recall_nb = cm_nb[1][1] / (cm_nb[1][0] + cm_nb[1][1]) if (cm_nb[1][0] + cm_nb[1][1]) > 0 else 0\n",
    "f1_nb = 2 * (precision_nb * recall_nb) / (precision_nb + recall_nb) if (precision_nb + recall_nb) > 0 else 0\n",
    "\n",
    "results['Naive Bayes'] = {\n",
    "    'precision': precision_nb,\n",
    "    'recall': recall_nb,\n",
    "    'f1': f1_nb,\n",
    "    'train_time': nb_train_time\n",
    "}"
   ]
  },
  {
   "cell_type": "markdown",
   "metadata": {
    "id": "w2Jacz8dYEWo"
   },
   "source": [
    "## LinearSVC"
   ]
  },
  {
   "cell_type": "code",
   "execution_count": 30,
   "metadata": {
    "colab": {
     "base_uri": "https://localhost:8080/"
    },
    "id": "JnOYnSJV2k3t",
    "outputId": "41751dac-ca8e-4f78-f743-96e6acb541dd"
   },
   "outputs": [
    {
     "name": "stdout",
     "output_type": "stream",
     "text": [
      "\n",
      "============================================================\n",
      "TESTING LINEAR SVC\n",
      "============================================================\n",
      "\n",
      "Training time: 1.95 seconds\n",
      "\n",
      "Validation Performance:\n",
      "                   precision    recall  f1-score   support\n",
      "\n",
      "   Other Jobs (0)      0.945     0.913     0.929       437\n",
      "AI/ML/DS Jobs (1)      0.723     0.811     0.764       122\n",
      "\n",
      "         accuracy                          0.891       559\n",
      "        macro avg      0.834     0.862     0.847       559\n",
      "     weighted avg      0.897     0.891     0.893       559\n",
      "\n"
     ]
    }
   ],
   "source": [
    "print(\"\\n\" + \"=\"*60)\n",
    "print(\"TESTING LINEAR SVC\")\n",
    "print(\"=\"*60)\n",
    "\n",
    "svc_pipeline = Pipeline([\n",
    "    ('tfidf', TfidfVectorizer(\n",
    "        max_features=1000,\n",
    "        ngram_range=(1,2),\n",
    "        min_df=2,\n",
    "        max_df=0.95,\n",
    "        strip_accents='unicode',\n",
    "        lowercase=True,\n",
    "        token_pattern=r'\\b[a-zA-Z]{2,}\\b'\n",
    "    )),\n",
    "    ('classifier', LinearSVC(\n",
    "        class_weight='balanced',\n",
    "        random_state=42,\n",
    "        max_iter=1000,\n",
    "        C=1.0\n",
    "    ))\n",
    "])\n",
    "\n",
    "# Train and time it\n",
    "start_time = time.time()\n",
    "svc_pipeline.fit(X_train_combined, y_train)\n",
    "svc_train_time = time.time() - start_time\n",
    "\n",
    "# Predict on validation (LinearSVC uses decision_function, not predict_proba)\n",
    "y_val_pred_svc = svc_pipeline.predict(X_val_combined)\n",
    "decision_scores = svc_pipeline.decision_function(X_val_combined)\n",
    "\n",
    "# Evaluate\n",
    "print(f\"\\nTraining time: {svc_train_time:.2f} seconds\")\n",
    "print(\"\\nValidation Performance:\")\n",
    "print(classification_report(y_val, y_val_pred_svc,\n",
    "                          target_names=['Other Jobs (0)', 'AI/ML/DS Jobs (1)'],\n",
    "                          digits=3))\n",
    "\n",
    "# Store results\n",
    "cm_svc = confusion_matrix(y_val, y_val_pred_svc)\n",
    "precision_svc = cm_svc[1][1] / (cm_svc[0][1] + cm_svc[1][1]) if (cm_svc[0][1] + cm_svc[1][1]) > 0 else 0\n",
    "recall_svc = cm_svc[1][1] / (cm_svc[1][0] + cm_svc[1][1]) if (cm_svc[1][0] + cm_svc[1][1]) > 0 else 0\n",
    "f1_svc = 2 * (precision_svc * recall_svc) / (precision_svc + recall_svc) if (precision_svc + recall_svc) > 0 else 0\n",
    "\n",
    "results['LinearSVC'] = {\n",
    "    'precision': precision_svc,\n",
    "    'recall': recall_svc,\n",
    "    'f1': f1_svc,\n",
    "    'train_time': svc_train_time\n",
    "}\n",
    "\n",
    "# Add LogisticRegression results for comparison\n",
    "results['LogisticRegression'] = {\n",
    "    'precision': 0.710,\n",
    "    'recall': 0.803,\n",
    "    'f1': 0.754,\n",
    "    'train_time': 'baseline'\n",
    "}"
   ]
  },
  {
   "cell_type": "markdown",
   "metadata": {
    "id": "EoirrKl3YAce"
   },
   "source": [
    "# Compare Models"
   ]
  },
  {
   "cell_type": "code",
   "execution_count": 31,
   "metadata": {
    "colab": {
     "base_uri": "https://localhost:8080/"
    },
    "id": "FzIfZyBZ2meM",
    "outputId": "4bedf79e-b339-4494-9cb0-a7b526e6763d"
   },
   "outputs": [
    {
     "name": "stdout",
     "output_type": "stream",
     "text": [
      "\n",
      "============================================================\n",
      "MODEL COMPARISON (Validation Set)\n",
      "============================================================\n",
      "Model                Precision  Recall     F1-Score   Train Time\n",
      "------------------------------------------------------------\n",
      "Naive Bayes          0.847      0.500      0.629      2.0115904808044434\n",
      "LinearSVC            0.723      0.811      0.764      1.9511723518371582\n",
      "LogisticRegression   0.710      0.803      0.754      baseline  \n"
     ]
    }
   ],
   "source": [
    "\n",
    "print(\"\\n\" + \"=\"*60)\n",
    "print(\"MODEL COMPARISON (Validation Set)\")\n",
    "print(\"=\"*60)\n",
    "print(f\"{'Model':<20} {'Precision':<10} {'Recall':<10} {'F1-Score':<10} {'Train Time':<10}\")\n",
    "print(\"-\" * 60)\n",
    "\n",
    "for model_name, metrics in results.items():\n",
    "    print(f\"{model_name:<20} {metrics['precision']:<10.3f} {metrics['recall']:<10.3f} \"\n",
    "          f\"{metrics['f1']:<10.3f} {str(metrics['train_time']):<10}\")"
   ]
  },
  {
   "cell_type": "markdown",
   "metadata": {
    "id": "6V2BLIkMYU1a"
   },
   "source": [
    "## **Model chosen: TF-IDF + Logistic Regression**\n",
    "###**Probability calibratio**n: LR gives reliable probability scores for threshold tuning. LinearSVC doesn't have native probabilities.\n",
    "###**1% gain not worth i**t: 0.754 → 0.764 F1 (SVC) is negligible in practice\n",
    "###**Proven on test set**: Already validated at 79.7% F1\n",
    "###**Simpler deployment**: No need for calibration wrappers"
   ]
  },
  {
   "cell_type": "code",
   "execution_count": 32,
   "metadata": {
    "id": "09qTiWrY2pYA"
   },
   "outputs": [],
   "source": [
    "# # Create voting ensemble\n",
    "# voting_clf = VotingClassifier(\n",
    "#     estimators=[\n",
    "#         ('lr', pipeline),\n",
    "#         ('svc', svc_pipeline)\n",
    "#     ],\n",
    "#     voting='soft',  # Use probabilities\n",
    "#     weights=[1, 1]  # Equal weights\n",
    "# )"
   ]
  },
  {
   "cell_type": "code",
   "execution_count": 32,
   "metadata": {
    "id": "a41Lh94R2_FT"
   },
   "outputs": [],
   "source": []
  }
 ],
 "metadata": {
  "colab": {
   "provenance": []
  },
  "kernelspec": {
   "display_name": "Python 3 (ipykernel)",
   "language": "python",
   "name": "python3"
  },
  "language_info": {
   "codemirror_mode": {
    "name": "ipython",
    "version": 3
   },
   "file_extension": ".py",
   "mimetype": "text/x-python",
   "name": "python",
   "nbconvert_exporter": "python",
   "pygments_lexer": "ipython3",
   "version": "3.10.12"
  }
 },
 "nbformat": 4,
 "nbformat_minor": 1
}
